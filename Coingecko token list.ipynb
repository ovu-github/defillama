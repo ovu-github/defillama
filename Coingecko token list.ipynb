{
 "cells": [
  {
   "cell_type": "code",
   "execution_count": 2,
   "id": "300e5015",
   "metadata": {},
   "outputs": [],
   "source": [
    "import pandas as pd\n",
    "from datetime import datetime\n",
    "from os import getlogin"
   ]
  },
  {
   "cell_type": "code",
   "execution_count": 3,
   "id": "fdf1f456",
   "metadata": {},
   "outputs": [
    {
     "data": {
      "text/html": [
       "<div>\n",
       "<style scoped>\n",
       "    .dataframe tbody tr th:only-of-type {\n",
       "        vertical-align: middle;\n",
       "    }\n",
       "\n",
       "    .dataframe tbody tr th {\n",
       "        vertical-align: top;\n",
       "    }\n",
       "\n",
       "    .dataframe thead th {\n",
       "        text-align: right;\n",
       "    }\n",
       "</style>\n",
       "<table border=\"1\" class=\"dataframe\">\n",
       "  <thead>\n",
       "    <tr style=\"text-align: right;\">\n",
       "      <th></th>\n",
       "      <th>id</th>\n",
       "      <th>symbol</th>\n",
       "      <th>name</th>\n",
       "      <th>platforms</th>\n",
       "    </tr>\n",
       "  </thead>\n",
       "  <tbody>\n",
       "    <tr>\n",
       "      <th>0</th>\n",
       "      <td>01coin</td>\n",
       "      <td>zoc</td>\n",
       "      <td>01coin</td>\n",
       "      <td>{}</td>\n",
       "    </tr>\n",
       "  </tbody>\n",
       "</table>\n",
       "</div>"
      ],
      "text/plain": [
       "       id symbol    name platforms\n",
       "0  01coin    zoc  01coin        {}"
      ]
     },
     "execution_count": 3,
     "metadata": {},
     "output_type": "execute_result"
    }
   ],
   "source": [
    "folder = 'C:\\\\Users\\\\' + getlogin() + '\\\\defillama\\\\coingecko extracts\\\\'\n",
    "file = 'response_1622528623503.json'\n",
    "\n",
    "df = pd.read_json(folder + file)\n",
    "df.head(1)"
   ]
  },
  {
   "cell_type": "code",
   "execution_count": 4,
   "id": "9f716424",
   "metadata": {},
   "outputs": [],
   "source": [
    "df[['platform type', 'contract address']] = df['platforms'].astype(str).replace('{','', regex = True)\\\n",
    "                                                                       .replace('}','', regex = True)\\\n",
    "                                                                       .replace(':','', regex = True)\\\n",
    "                                                                       .replace(\"'\",'', regex = True)\\\n",
    "                                                                       .str.split(n = 1, expand = True)"
   ]
  },
  {
   "cell_type": "code",
   "execution_count": 5,
   "id": "49c91d8a",
   "metadata": {},
   "outputs": [],
   "source": [
    "df = df.drop(columns = ['platforms'])"
   ]
  },
  {
   "cell_type": "code",
   "execution_count": 6,
   "id": "66d2937a",
   "metadata": {},
   "outputs": [],
   "source": [
    "df.to_csv('coingecko output\\\\coingecko token list ' + datetime.now().strftime('%m-%d-%Y %I %M %p') + '.csv')"
   ]
  }
 ],
 "metadata": {
  "kernelspec": {
   "display_name": "Python 3",
   "language": "python",
   "name": "python3"
  },
  "language_info": {
   "codemirror_mode": {
    "name": "ipython",
    "version": 3
   },
   "file_extension": ".py",
   "mimetype": "text/x-python",
   "name": "python",
   "nbconvert_exporter": "python",
   "pygments_lexer": "ipython3",
   "version": "3.9.4"
  }
 },
 "nbformat": 4,
 "nbformat_minor": 5
}
